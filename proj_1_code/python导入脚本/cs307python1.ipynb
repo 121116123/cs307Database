{
 "cells": [
  {
   "cell_type": "code",
   "execution_count": null,
   "id": "e15784ae",
   "metadata": {},
   "outputs": [],
   "source": [
    "import json\n",
    "import psycopg2\n",
    "import time\n",
    "\n",
    "start_time = time.perf_counter()\n",
    "\n",
    "# 程序代码\n",
    "\n",
    "\n",
    "# 打开JSON文件并将其转换为Python对象\n",
    "with open('posts.json', 'r') as f:\n",
    "    data = json.load(f)\n",
    "\n",
    "conn = psycopg2.connect(\n",
    "    dbname=\"proj_1\",\n",
    "    user=\"checker\",\n",
    "    password=\"123456\",\n",
    "    host=\"localhost\",\n",
    "    port=\"5432\"\n",
    ")\n",
    "\n",
    "cur = conn.cursor()\n",
    "\n",
    "# 循环遍历数据并插入到数据库中\n",
    "for item in data:\n",
    "    query = \"INSERT INTO Posts(postID,title,category,content,postingTime,postingCity,Author,authorRegistrationTime,authorID,authoPhone,authorFollowedBy,authorFavorite,authorShared,authorLiked) VALUES (%s, %s, %s,%s,%s,%s,%s,%s,%s,%s,%s,%s,%s,%s)\"\n",
    "    values = (item['postID'], item['title'], item['category'],item['content'],item['postingTime'],item['postingCity'],item['Author'],item['authorRegistrationTime'],item['authorID'],item['authoPhone'],item['authorFollowedBy'],item['authorFavorite'],item['authorShared'],item['authorLiked'])\n",
    "    cur.execute(query, values)\n",
    "# Execute SQL query here\n",
    "\n",
    "conn.commit()\n",
    "cur.close()\n",
    "conn.close()\n",
    "\n",
    "end_time = time.perf_counter()\n",
    "\n",
    "elapsed_time_ms = round((end_time - start_time) * 1000, 2)\n",
    "\n",
    "print(f\"程序运行时间：{elapsed_time_ms} 毫秒\")"
   ]
  }
 ],
 "metadata": {
  "kernelspec": {
   "display_name": "Python 3 (ipykernel)",
   "language": "python",
   "name": "python3"
  },
  "language_info": {
   "codemirror_mode": {
    "name": "ipython",
    "version": 3
   },
   "file_extension": ".py",
   "mimetype": "text/x-python",
   "name": "python",
   "nbconvert_exporter": "python",
   "pygments_lexer": "ipython3",
   "version": "3.9.13"
  }
 },
 "nbformat": 4,
 "nbformat_minor": 5
}
