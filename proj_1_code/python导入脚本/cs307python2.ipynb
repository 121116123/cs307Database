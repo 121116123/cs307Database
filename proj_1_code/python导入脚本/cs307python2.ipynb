{
 "cells": [
  {
   "cell_type": "code",
   "execution_count": null,
   "id": "13605f32",
   "metadata": {},
   "outputs": [],
   "source": [
    "import json\n",
    "import csv\n",
    "import psycopg2\n",
    "import pandas as pd\n",
    "\n",
    "with open('post.csv', 'w', encoding='utf-8', newline='') as f:\n",
    "    w = csv.writer(f,delimiter=';')\n",
    "    w.writerow(['postID', 'title', 'category', 'content', 'postingTime', 'postingCity', 'Author', 'authorRegistrationTime',\n",
    "                'authorID', 'authoPhone', 'authorFollowedBy', 'authorFavorite', 'authorShared', 'authorLiked'])\n",
    "\n",
    "    with open('posts.json') as f:\n",
    "        data = json.load(f)\n",
    "\n",
    "    # 将JSON数据写入CSV文件\n",
    "    for post in data:\n",
    "        postlist = [post['postID'], post['title'], post['category'], post['content'], post['postingTime'],\n",
    "                    post['postingCity'], post['Author'], post['authorRegistrationTime'], post['authorID'],\n",
    "                    post['authoPhone'], post['authorFollowedBy'], post['authorFavorite'], post['authorShared'],\n",
    "                    post['authorLiked']]\n",
    "        w.writerow(postlist)\n",
    "conn = psycopg2.connect(\n",
    "    dbname=\"proj_1\",\n",
    "    user=\"checker\",\n",
    "    password=\"123456\",\n",
    "    host=\"localhost\",\n",
    "    port=\"5432\"\n",
    ")\n",
    "cursor = conn.cursor()\n",
    "\n",
    "data = pd.read_csv('post.csv')\n",
    "# print(post)\n",
    "\n",
    "# post['postID'] =post['postID']\n",
    "\n",
    "post['postingTime']=pd.Timestamp(post['postingTime'])\n",
    "\n",
    "post['authorRegistrationTime']=pd.Timestamp(post['authorRegistrationTime'])\n",
    "\n",
    "cur = conn.cursor()\n",
    "\n",
    "with open('post.csv', 'r') as csv_file:\n",
    "    next(csv_file)\n",
    "    cur.copy_from(csv_file, 'posts', sep=';')\n",
    "\n",
    "conn.commit()\n",
    "conn.close()"
   ]
  }
 ],
 "metadata": {
  "kernelspec": {
   "display_name": "Python 3 (ipykernel)",
   "language": "python",
   "name": "python3"
  },
  "language_info": {
   "codemirror_mode": {
    "name": "ipython",
    "version": 3
   },
   "file_extension": ".py",
   "mimetype": "text/x-python",
   "name": "python",
   "nbconvert_exporter": "python",
   "pygments_lexer": "ipython3",
   "version": "3.9.13"
  }
 },
 "nbformat": 4,
 "nbformat_minor": 5
}
